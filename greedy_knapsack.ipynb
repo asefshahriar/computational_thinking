{
  "nbformat": 4,
  "nbformat_minor": 0,
  "metadata": {
    "colab": {
      "name": "scratchpad",
      "provenance": [],
      "include_colab_link": true
    },
    "kernelspec": {
      "display_name": "Python 3",
      "name": "python3"
    }
  },
  "cells": [
    {
      "cell_type": "markdown",
      "metadata": {
        "id": "view-in-github",
        "colab_type": "text"
      },
      "source": [
        "<a href=\"https://colab.research.google.com/github/asefshahriar/computational_thinking/blob/main/scratchpad.ipynb\" target=\"_parent\"><img src=\"https://colab.research.google.com/assets/colab-badge.svg\" alt=\"Open In Colab\"/></a>"
      ]
    },
    {
      "cell_type": "code",
      "metadata": {
        "id": "lIYdn1woOS1n"
      },
      "source": [
        "class Food(object):\n",
        "  def __init__(self, name, value, calories):\n",
        "    self.naane = name\n",
        "    self.value = value\n",
        "    self.calories = calories\n",
        "  \n",
        "  def getValue(self):\n",
        "    return self.value\n",
        "  def getCost(self):\n",
        "    return self.calories\n",
        "  def density(self):\n",
        "    return self.getValue()/self.getCost()\n",
        "  def __str__(self):\n",
        "    return self.name + ': <' + str(self.value) + str(self.calories) + '>'\n",
        "\n",
        "def buildMenu(names, values, calories):\n",
        "  ''' buils the menu taking list of food, value and calories list '''\n",
        "  menu = list()\n",
        "  for i in range(len(values)):\n",
        "    menu.append(Food(names[i], values[i], calories[i]))\n",
        "  return menu\n",
        "\n",
        "def greedy(items,maxCost,keyFunction):\n",
        "  itemsCopy = sorted(items, key=keyFunction, reverse=True)\n",
        "  result = list()\n",
        "  totalValue, totalCost = 0.0, 0.0\n",
        "\n",
        "  for i in range(len(itemsCopy)):\n",
        "    if  ( totalValue + itemsCopy[i].getCost() ) < maxCost:\n",
        "      result.append(itemsCopy[i])\n",
        "      totalCost += itemsCopy[i].getCost()\n",
        "      totalValue += itemsCopy.getValue()\n",
        "  return (result, totalValue)\n",
        "\n",
        "\n"
      ],
      "execution_count": 2,
      "outputs": []
    },
    {
      "cell_type": "code",
      "metadata": {
        "id": "JQK51oNegj8P"
      },
      "source": [
        ""
      ],
      "execution_count": null,
      "outputs": []
    }
  ]
}
